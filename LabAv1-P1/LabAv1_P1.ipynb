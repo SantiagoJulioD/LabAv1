{
 "cells": [
  {
   "cell_type": "markdown",
   "metadata": {},
   "source": [
    "---\n",
    "# **Ecuación del diodo de Shockley usando un ESP32 controlado por LabView**\n",
    "---\n",
    "Andrés Felipe Riaño Quintanilla     1083928808\n",
    "\n",
    "Santiago Julio Dávila               1000413445\n",
    "\n",
    "---\n",
    "Laboratorio Avanzado I, Instituto de Física, Universidad de Antioquia"
   ]
  },
  {
   "cell_type": "markdown",
   "metadata": {},
   "source": []
  }
 ],
 "metadata": {
  "language_info": {
   "name": "python"
  }
 },
 "nbformat": 4,
 "nbformat_minor": 2
}
